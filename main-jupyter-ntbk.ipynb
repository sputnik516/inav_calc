{
 "cells": [
  {
   "cell_type": "code",
   "execution_count": 9,
   "metadata": {
    "collapsed": false
   },
   "outputs": [],
   "source": [
    "import json\n",
    "import urllib.request as urlreq\n",
    "import time, datetime\n",
    "import pandas as pd\n",
    "import codecs\n",
    "import sqlite3 as sq"
   ]
  },
  {
   "cell_type": "code",
   "execution_count": 10,
   "metadata": {
    "collapsed": true
   },
   "outputs": [],
   "source": [
    "def get_stock_list(fname):\n",
    "    \"\"\"Open .csv file containing list of stocks, and their weights in the ETF\"\"\"\n",
    "    stock_list = pd.read_csv(fname)\n",
    "    return stock_list"
   ]
  },
  {
   "cell_type": "code",
   "execution_count": 11,
   "metadata": {
    "collapsed": false
   },
   "outputs": [],
   "source": [
    "def get_quotes(stock_list):\n",
    "    \"\"\"Get quote for each stock in list, return list of responses from the API\"\"\"\n",
    "    url = \"http://finance.google.com/finance/info?client=ig&q=\"\n",
    "    for stock in stock_list:\n",
    "        url = url + '{},'.format(stock)\n",
    "    try:\n",
    "        raw_data = urlreq.urlopen(url).read().decode('utf8')\n",
    "    except HTTPError:\n",
    "        print('Error in API response when fetching', url)\n",
    "        pass\n",
    "\n",
    "    return json.loads(raw_data[3:])"
   ]
  },
  {
   "cell_type": "code",
   "execution_count": 12,
   "metadata": {
    "collapsed": true
   },
   "outputs": [],
   "source": [
    "def calc_inav(stock_list, dow_divisor):\n",
    "    \"\"\"Calculate Indicative Net Asset Value of DJT. Returns calculated value, and value for\n",
    "    the DJT received from API call\"\"\"\n",
    "    quotes = get_quotes(stock_list['Ticker'])\n",
    "\n",
    "    inav_df = stock_list.set_index('Ticker')\n",
    "\n",
    "    for i, stock in enumerate(quotes):\n",
    "        inav_df.set_value(stock['t'], 'Last_Price', float(stock['l'].replace(',','')))\n",
    "\n",
    "    inav = inav_df[(inav_df.index != 'DJT')]['Last_Price'].sum(axis=0) / dow_divisor\n",
    "\n",
    "    market_index = inav_df[(inav_df.index == 'DJT')]['Last_Price'].iloc[0]\n",
    "\n",
    "    output = {'time': datetime.datetime.now(), 'inav': inav, 'market_index': market_index}\n",
    "\n",
    "    return output"
   ]
  },
  {
   "cell_type": "code",
   "execution_count": 13,
   "metadata": {
    "collapsed": true
   },
   "outputs": [],
   "source": [
    "def connect_to_db():\n",
    "    \"\"\"Connect to Database\"\"\"\n",
    "    db = sq.connect('mydb')\n",
    "    cursor = db.cursor()\n",
    "    \n",
    "    return db  "
   ]
  },
  {
   "cell_type": "code",
   "execution_count": 14,
   "metadata": {
    "collapsed": true
   },
   "outputs": [],
   "source": [
    "def to_db(con, data):\n",
    "    \"\"\"Write data to Database\"\"\"\n",
    "    data.to_sql(\"data\", con, if_exists=\"append\")   "
   ]
  },
  {
   "cell_type": "code",
   "execution_count": 15,
   "metadata": {
    "collapsed": true
   },
   "outputs": [],
   "source": [
    "def exit_program(con, values_df):\n",
    "    \"\"\"Exit program, commit changes to Database\"\"\"\n",
    "    print('Exiting...')\n",
    "    print(values_df)\n",
    "    con.commit()\n",
    "    values_df.to_csv('Output.csv')\n",
    "\n",
    "    # Exit program:\n",
    "    exit()"
   ]
  },
  {
   "cell_type": "code",
   "execution_count": 16,
   "metadata": {
    "collapsed": false
   },
   "outputs": [],
   "source": [
    "def run_app(stock_list):\n",
    "    \"\"\"Will run the program continuously until user exits, getting new data every 1 secs.\n",
    "    Then, will output summary of data, and save to .csv\"\"\"\n",
    "    \n",
    "    try:\n",
    "        values_df = pd.DataFrame()\n",
    "        \n",
    "        # Connect to Database, to save new data:\n",
    "        con = connect_to_db()\n",
    "        \n",
    "        while True:\n",
    "            \n",
    "            values = calc_inav(stock_list, dow_divisor)\n",
    "            temp_df = pd.DataFrame([values]).set_index('time')\n",
    "            temp_df['difference'] = temp_df['inav'] - temp_df['market_index']\n",
    "            \n",
    "            # Add new data to existing master DataFrame:\n",
    "            values_df = pd.concat([values_df, temp_df])\n",
    "            \n",
    "            # Save to Database:\n",
    "            to_db(con, temp_df)\n",
    "            \n",
    "            # Wait to get new data:\n",
    "            time.sleep(1)            \n",
    "\n",
    "    except KeyboardInterrupt:\n",
    "        exit_program(con, values_df)"
   ]
  },
  {
   "cell_type": "code",
   "execution_count": 17,
   "metadata": {
    "collapsed": false
   },
   "outputs": [
    {
     "name": "stdout",
     "output_type": "stream",
     "text": [
      "Exiting...\n",
      "                                   inav  market_index  difference\n",
      "time                                                             \n",
      "2017-02-15 19:05:50.354972  9554.353607       9554.35    0.003607\n",
      "2017-02-15 19:05:51.951041  9554.353607       9554.35    0.003607\n",
      "2017-02-15 19:05:53.332751  9554.353607       9554.35    0.003607\n",
      "2017-02-15 19:05:54.722933  9554.353607       9554.35    0.003607\n",
      "2017-02-15 19:05:55.936684  9554.353607       9554.35    0.003607\n",
      "2017-02-15 19:05:57.194799  9554.353607       9554.35    0.003607\n"
     ]
    }
   ],
   "source": [
    "if __name__ == '__main__':\n",
    "\n",
    "    '''DOW divisor source: http://online.barrons.com/mdc/public/page/9_3022-djiahourly.html?mod=mdc_h_usshl'''\n",
    "    dow_divisor = 0.16416809180007\n",
    "\n",
    "    stock_list = get_stock_list('DJT_Component_Weights.csv')\n",
    "\n",
    "    \"\"\"Runs the program continuously until exit\"\"\"\n",
    "    run_app(stock_list)"
   ]
  },
  {
   "cell_type": "code",
   "execution_count": null,
   "metadata": {
    "collapsed": false
   },
   "outputs": [],
   "source": []
  },
  {
   "cell_type": "code",
   "execution_count": null,
   "metadata": {
    "collapsed": true
   },
   "outputs": [],
   "source": []
  }
 ],
 "metadata": {
  "anaconda-cloud": {},
  "kernelspec": {
   "display_name": "Python [default]",
   "language": "python",
   "name": "python3"
  },
  "language_info": {
   "codemirror_mode": {
    "name": "ipython",
    "version": 3
   },
   "file_extension": ".py",
   "mimetype": "text/x-python",
   "name": "python",
   "nbconvert_exporter": "python",
   "pygments_lexer": "ipython3",
   "version": "3.5.2"
  }
 },
 "nbformat": 4,
 "nbformat_minor": 0
}

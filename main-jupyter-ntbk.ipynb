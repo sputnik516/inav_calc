{
 "cells": [
  {
   "cell_type": "code",
   "execution_count": 2,
   "metadata": {
    "collapsed": false
   },
   "outputs": [],
   "source": [
    "import json\n",
    "import urllib.request as urlreq\n",
    "import time, datetime\n",
    "import pandas as pd\n",
    "import codecs\n",
    "# import sys\n",
    "# print(sys.version)"
   ]
  },
  {
   "cell_type": "code",
   "execution_count": 3,
   "metadata": {
    "collapsed": true
   },
   "outputs": [],
   "source": [
    "def get_stock_list(fname):\n",
    "    \"\"\"Open .csv file containing list of stocks, and their weights in the ETF\"\"\"\n",
    "    stock_list = pd.read_csv(fname)\n",
    "    return stock_list"
   ]
  },
  {
   "cell_type": "code",
   "execution_count": 4,
   "metadata": {
    "collapsed": true
   },
   "outputs": [],
   "source": [
    "def get_quotes(stock_list):\n",
    "    \"\"\"Get quote for each stock in list, return list of responses from the API\"\"\"\n",
    "    url = \"http://finance.google.com/finance/info?client=ig&q=\"\n",
    "    for stock in stock_list:\n",
    "        url = url + '{},'.format(stock)\n",
    "    raw_data = urlreq.urlopen(url).read().decode('utf8')\n",
    "\n",
    "    return json.loads(raw_data[3:])"
   ]
  },
  {
   "cell_type": "code",
   "execution_count": 5,
   "metadata": {
    "collapsed": true
   },
   "outputs": [],
   "source": [
    "def calc_inav(stock_list, dow_divisor):\n",
    "    \"\"\"Calculate Indicative Net Asset Value of DJT. Returns calculated value, and value for\n",
    "    the DJT received from API call\"\"\"\n",
    "    quotes = get_quotes(stock_list['Ticker'])\n",
    "\n",
    "    inav_df = stock_list.set_index('Ticker')\n",
    "\n",
    "    for i, stock in enumerate(quotes):\n",
    "        inav_df.set_value(stock['t'], 'Last_Price', float(stock['l'].replace(',','')))\n",
    "\n",
    "    inav = inav_df[(inav_df.index != 'DJT')]['Last_Price'].sum(axis=0) / dow_divisor\n",
    "\n",
    "    market_index = inav_df[(inav_df.index == 'DJT')]['Last_Price'].iloc[0]\n",
    "\n",
    "    output = {'time': datetime.datetime.now(), 'inav': inav, 'market_index': market_index}\n",
    "\n",
    "    return output"
   ]
  },
  {
   "cell_type": "code",
   "execution_count": 6,
   "metadata": {
    "collapsed": true
   },
   "outputs": [],
   "source": [
    "def plot():\n",
    "    pass"
   ]
  },
  {
   "cell_type": "code",
   "execution_count": 7,
   "metadata": {
    "collapsed": true
   },
   "outputs": [],
   "source": [
    "def run_app(stock_list):\n",
    "    \"\"\"Will run the program continuously until user exits, getting new data every 1 secs\"\"\"\n",
    "    try:\n",
    "        values_df = pd.DataFrame()\n",
    "        while True:\n",
    "            values = calc_inav(stock_list, dow_divisor)\n",
    "            temp_df = pd.DataFrame([values]).set_index('time')\n",
    "            values_df = pd.concat([values_df, temp_df])\n",
    "            \n",
    "            time.sleep(1)            \n",
    "\n",
    "    except KeyboardInterrupt:\n",
    "        print('Exiting...')\n",
    "        print(values_df)\n",
    "        exit()"
   ]
  },
  {
   "cell_type": "code",
   "execution_count": 8,
   "metadata": {
    "collapsed": false
   },
   "outputs": [
    {
     "name": "stdout",
     "output_type": "stream",
     "text": [
      "Exiting...\n",
      "                                   inav  market_index\n",
      "time                                                 \n",
      "2017-02-14 23:03:05.888575  9444.222583       9444.22\n",
      "2017-02-14 23:03:07.005301  9444.222583       9444.22\n",
      "2017-02-14 23:03:09.043831  9444.222583       9444.22\n",
      "2017-02-14 23:03:10.155877  9444.222583       9444.22\n",
      "2017-02-14 23:03:11.268175  9444.222583       9444.22\n"
     ]
    }
   ],
   "source": [
    "if __name__ == '__main__':\n",
    "\n",
    "    '''DOW divisor source: http://online.barrons.com/mdc/public/page/9_3022-djiahourly.html?mod=mdc_h_usshl'''\n",
    "    dow_divisor = 0.16416809180007\n",
    "\n",
    "    stock_list = get_stock_list('DJT_Component_Weights.csv')\n",
    "\n",
    "    \"\"\"Runs the program continuously until exit\"\"\"\n",
    "    run_app(stock_list)"
   ]
  },
  {
   "cell_type": "code",
   "execution_count": null,
   "metadata": {
    "collapsed": false
   },
   "outputs": [],
   "source": []
  },
  {
   "cell_type": "code",
   "execution_count": null,
   "metadata": {
    "collapsed": true
   },
   "outputs": [],
   "source": []
  }
 ],
 "metadata": {
  "anaconda-cloud": {},
  "kernelspec": {
   "display_name": "Python [default]",
   "language": "python",
   "name": "python3"
  },
  "language_info": {
   "codemirror_mode": {
    "name": "ipython",
    "version": 3
   },
   "file_extension": ".py",
   "mimetype": "text/x-python",
   "name": "python",
   "nbconvert_exporter": "python",
   "pygments_lexer": "ipython3",
   "version": "3.5.2"
  }
 },
 "nbformat": 4,
 "nbformat_minor": 0
}

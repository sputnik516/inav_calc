{
 "cells": [
  {
   "cell_type": "code",
   "execution_count": 15,
   "metadata": {
    "collapsed": false
   },
   "outputs": [],
   "source": [
    "import json\n",
    "import urllib.request as urlreq\n",
    "import time, datetime\n",
    "import pandas as pd\n",
    "import codecs\n",
    "# import sys\n",
    "# print(sys.version)"
   ]
  },
  {
   "cell_type": "code",
   "execution_count": 16,
   "metadata": {
    "collapsed": true
   },
   "outputs": [],
   "source": [
    "def get_stock_list(fname):\n",
    "    \"\"\"Open .csv file containing list of stocks, and their weights in the ETF\"\"\"\n",
    "    stock_list = pd.read_csv(fname)\n",
    "    return stock_list"
   ]
  },
  {
   "cell_type": "code",
   "execution_count": 17,
   "metadata": {
    "collapsed": true
   },
   "outputs": [],
   "source": [
    "def get_quotes(stock_list):\n",
    "    \"\"\"Get quote for each stock in list, return list of responses from the API\"\"\"\n",
    "    url = \"http://finance.google.com/finance/info?client=ig&q=\"\n",
    "    for stock in stock_list:\n",
    "        url = url + '{},'.format(stock)\n",
    "    raw_data = urlreq.urlopen(url).read().decode('utf8')\n",
    "\n",
    "    return json.loads(raw_data[3:])"
   ]
  },
  {
   "cell_type": "code",
   "execution_count": 18,
   "metadata": {
    "collapsed": true
   },
   "outputs": [],
   "source": [
    "def calc_inav(stock_list, dow_divisor):\n",
    "    \"\"\"Calculate Indicative Net Asset Value of DJT. Returns calculated value, and value for\n",
    "    the DJT received from API call\"\"\"\n",
    "    quotes = get_quotes(stock_list['Ticker'])\n",
    "\n",
    "    inav_df = stock_list.set_index('Ticker')\n",
    "\n",
    "    for i, stock in enumerate(quotes):\n",
    "        inav_df.set_value(stock['t'], 'Last_Price', float(stock['l'].replace(',','')))\n",
    "\n",
    "    inav = inav_df[(inav_df.index != 'DJT')]['Last_Price'].sum(axis=0) / dow_divisor\n",
    "\n",
    "    market_index = inav_df[(inav_df.index == 'DJT')]['Last_Price'].iloc[0]\n",
    "\n",
    "    output = {'time': datetime.datetime.now(), 'inav': inav, 'market_index': market_index}\n",
    "\n",
    "    return output"
   ]
  },
  {
   "cell_type": "code",
   "execution_count": 19,
   "metadata": {
    "collapsed": true
   },
   "outputs": [],
   "source": [
    "def plot():\n",
    "    pass"
   ]
  },
  {
   "cell_type": "code",
   "execution_count": 20,
   "metadata": {
    "collapsed": true
   },
   "outputs": [],
   "source": [
    "def run_app(stock_list):\n",
    "    \"\"\"Will run the program continuously until user exits, getting new data every 1 secs\"\"\"\n",
    "    try:\n",
    "        while True:\n",
    "            values = calc_inav(stock_list, dow_divisor)\n",
    "            print('Calculated iNAV:', values['inav'], '\\t', \n",
    "                  'Market Index:', values['market_index'],\n",
    "                 '\\t', 'Difference:', values['inav'] - values['market_index'])\n",
    "            \n",
    "            time.sleep(1)            \n",
    "\n",
    "    except KeyboardInterrupt:\n",
    "        print('Exiting...')\n",
    "        exit()"
   ]
  },
  {
   "cell_type": "code",
   "execution_count": 21,
   "metadata": {
    "collapsed": false
   },
   "outputs": [
    {
     "name": "stdout",
     "output_type": "stream",
     "text": [
      "Calculated iNAV: 9458.84174551475 \t Market Index: 9457.25 \t Difference: 1.59174551475\n",
      "Calculated iNAV: 9458.84174551475 \t Market Index: 9457.29 \t Difference: 1.55174551475\n",
      "Calculated iNAV: 9458.719919161158 \t Market Index: 9457.41 \t Difference: 1.30991916116\n",
      "Calculated iNAV: 9458.537179630772 \t Market Index: 9457.04 \t Difference: 1.49717963077\n",
      "Calculated iNAV: 9458.476266453976 \t Market Index: 9457.04 \t Difference: 1.43626645397\n",
      "Calculated iNAV: 9458.29352692359 \t Market Index: 9456.98 \t Difference: 1.31352692359\n",
      "Calculated iNAV: 9458.354440100386 \t Market Index: 9456.68 \t Difference: 1.67444010039\n",
      "Calculated iNAV: 9458.354440100386 \t Market Index: 9456.53 \t Difference: 1.82444010038\n",
      "Calculated iNAV: 9458.354440100386 \t Market Index: 9456.5 \t Difference: 1.85444010039\n",
      "Calculated iNAV: 9458.415353277182 \t Market Index: 9456.53 \t Difference: 1.88535327718\n",
      "Calculated iNAV: 9458.415353277182 \t Market Index: 9456.47 \t Difference: 1.94535327718\n",
      "Calculated iNAV: 9458.415353277182 \t Market Index: 9456.54 \t Difference: 1.87535327718\n",
      "Calculated iNAV: 9458.415353277182 \t Market Index: 9456.42 \t Difference: 1.99535327718\n",
      "Calculated iNAV: 9458.415353277182 \t Market Index: 9456.39 \t Difference: 2.02535327718\n",
      "Calculated iNAV: 9458.476266453978 \t Market Index: 9456.51 \t Difference: 1.96626645398\n",
      "Calculated iNAV: 9458.84174551475 \t Market Index: 9456.5 \t Difference: 2.34174551475\n",
      "Calculated iNAV: 9459.024485045136 \t Market Index: 9456.54 \t Difference: 2.48448504514\n",
      "Calculated iNAV: 9459.024485045136 \t Market Index: 9456.51 \t Difference: 2.51448504514\n",
      "Calculated iNAV: 9459.024485045136 \t Market Index: 9456.48 \t Difference: 2.54448504514\n",
      "Calculated iNAV: 9459.024485045136 \t Market Index: 9456.36 \t Difference: 2.66448504514\n",
      "Calculated iNAV: 9458.963571868342 \t Market Index: 9455.81 \t Difference: 3.15357186834\n",
      "Calculated iNAV: 9459.085398221932 \t Market Index: 9455.93 \t Difference: 3.15539822193\n",
      "Calculated iNAV: 9459.085398221932 \t Market Index: 9455.73 \t Difference: 3.35539822193\n",
      "Calculated iNAV: 9459.450877282705 \t Market Index: 9455.92 \t Difference: 3.5308772827\n",
      "Exiting...\n"
     ]
    }
   ],
   "source": [
    "if __name__ == '__main__':\n",
    "\n",
    "    '''DOW divisor source: http://online.barrons.com/mdc/public/page/9_3022-djiahourly.html?mod=mdc_h_usshl'''\n",
    "    dow_divisor = 0.16416809180007\n",
    "\n",
    "    stock_list = get_stock_list('DJT_Component_Weights.csv')\n",
    "\n",
    "    \"\"\"Runs the program continuously until exit\"\"\"\n",
    "    run_app(stock_list)"
   ]
  },
  {
   "cell_type": "code",
   "execution_count": null,
   "metadata": {
    "collapsed": false
   },
   "outputs": [],
   "source": []
  }
 ],
 "metadata": {
  "anaconda-cloud": {},
  "kernelspec": {
   "display_name": "Python [default]",
   "language": "python",
   "name": "python3"
  },
  "language_info": {
   "codemirror_mode": {
    "name": "ipython",
    "version": 3
   },
   "file_extension": ".py",
   "mimetype": "text/x-python",
   "name": "python",
   "nbconvert_exporter": "python",
   "pygments_lexer": "ipython3",
   "version": "3.5.2"
  }
 },
 "nbformat": 4,
 "nbformat_minor": 0
}

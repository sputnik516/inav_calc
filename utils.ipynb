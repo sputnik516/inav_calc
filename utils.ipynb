{
 "cells": [
  {
   "cell_type": "code",
   "execution_count": 71,
   "metadata": {
    "collapsed": true
   },
   "outputs": [],
   "source": [
    "# Set of utilities for reading and exporting data from the Database"
   ]
  },
  {
   "cell_type": "code",
   "execution_count": 72,
   "metadata": {
    "collapsed": false
   },
   "outputs": [],
   "source": [
    "import time, datetime\n",
    "import pandas as pd\n",
    "import sqlite3 as sq"
   ]
  },
  {
   "cell_type": "code",
   "execution_count": 73,
   "metadata": {
    "collapsed": true
   },
   "outputs": [],
   "source": [
    "def connect_to_db():\n",
    "    \"\"\"Connect to Database\"\"\"\n",
    "    db = sq.connect('mydb')\n",
    "    cursor = db.cursor()\n",
    "    \n",
    "    return db  "
   ]
  },
  {
   "cell_type": "code",
   "execution_count": 74,
   "metadata": {
    "collapsed": false
   },
   "outputs": [],
   "source": [
    "def get_data(db, sql):\n",
    "    data = pd.read_sql(sql, db)\n",
    "    return data"
   ]
  },
  {
   "cell_type": "code",
   "execution_count": 75,
   "metadata": {
    "collapsed": true
   },
   "outputs": [],
   "source": [
    "# Establish Database connection\n",
    "db = connect_to_db()"
   ]
  },
  {
   "cell_type": "code",
   "execution_count": 76,
   "metadata": {
    "collapsed": false
   },
   "outputs": [],
   "source": [
    "'''SQL query'''\n",
    "# sql = 'SELECT * FROM data LIMIT 100'\n",
    "sql = 'SELECT * FROM data WHERE difference < -15 OR difference > 15'\n",
    "\n",
    "data = get_data(db, sql)"
   ]
  },
  {
   "cell_type": "code",
   "execution_count": 77,
   "metadata": {
    "collapsed": false
   },
   "outputs": [
    {
     "name": "stdout",
     "output_type": "stream",
     "text": [
      "                          time         inav  market_index  difference\n",
      "0   2017-02-15 11:45:31.474046  9527.429983       9545.08  -17.650017\n",
      "1   2017-02-15 11:45:32.983345  9527.003590       9544.50  -17.496410\n",
      "2   2017-02-15 11:45:34.232878  9526.638111       9544.50  -17.861889\n",
      "3   2017-02-15 11:45:36.677809  9526.211719       9544.80  -18.588281\n",
      "4   2017-02-15 11:45:38.276971  9526.089893       9544.73  -18.640107\n",
      "5   2017-02-15 11:45:39.523821  9526.028980       9544.76  -18.731020\n",
      "6   2017-02-15 11:45:41.328453  9526.028980       9544.79  -18.761020\n",
      "7   2017-02-15 11:45:43.643234  9525.907153       9544.61  -18.702847\n",
      "8   2017-02-15 11:45:48.660672  9525.785327       9543.56  -17.774673\n",
      "9   2017-02-15 11:45:50.114321  9525.602587       9543.37  -17.767413\n",
      "10  2017-02-15 11:45:52.179021  9525.419848       9542.52  -17.100152\n",
      "11  2017-02-15 11:45:53.641962  9525.419848       9542.38  -16.960152\n",
      "12  2017-02-15 11:45:55.054222  9525.176195       9542.32  -17.143805\n",
      "13  2017-02-15 11:45:57.096952  9525.237108       9542.20  -16.962892\n",
      "14  2017-02-15 11:45:58.904960  9525.663500       9542.08  -16.416500\n",
      "15  2017-02-15 11:46:01.208720  9526.577198       9541.80  -15.222802\n"
     ]
    }
   ],
   "source": [
    "# Print first 50 results\n",
    "print(data.head(50))\n",
    "\n",
    "# Save to .csv file\n",
    "# data.to_csv('Output.csv')"
   ]
  },
  {
   "cell_type": "code",
   "execution_count": null,
   "metadata": {
    "collapsed": true
   },
   "outputs": [],
   "source": []
  }
 ],
 "metadata": {
  "kernelspec": {
   "display_name": "Python [conda env:Demo_iNAV_Calc]",
   "language": "python",
   "name": "conda-env-Demo_iNAV_Calc-py"
  },
  "language_info": {
   "codemirror_mode": {
    "name": "ipython",
    "version": 3
   },
   "file_extension": ".py",
   "mimetype": "text/x-python",
   "name": "python",
   "nbconvert_exporter": "python",
   "pygments_lexer": "ipython3",
   "version": "3.6.0"
  }
 },
 "nbformat": 4,
 "nbformat_minor": 1
}
